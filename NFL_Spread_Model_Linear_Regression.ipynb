{
  "nbformat": 4,
  "nbformat_minor": 0,
  "metadata": {
    "colab": {
      "provenance": [],
      "authorship_tag": "ABX9TyNG91Dr9RgOS0ayFytS6Ywz",
      "include_colab_link": true
    },
    "kernelspec": {
      "name": "python3",
      "display_name": "Python 3"
    },
    "language_info": {
      "name": "python"
    }
  },
  "cells": [
    {
      "cell_type": "markdown",
      "metadata": {
        "id": "view-in-github",
        "colab_type": "text"
      },
      "source": [
        "<a href=\"https://colab.research.google.com/github/nickbohall/Automatic_Watermarking_App/blob/main/NFL_Spread_Model_Linear_Regression.ipynb\" target=\"_parent\"><img src=\"https://colab.research.google.com/assets/colab-badge.svg\" alt=\"Open In Colab\"/></a>"
      ]
    },
    {
      "cell_type": "markdown",
      "source": [
        "# Imports & Housekeeping"
      ],
      "metadata": {
        "id": "f6JaPUJxCbA2"
      }
    },
    {
      "cell_type": "code",
      "source": [
        "!pip install --upgrade pip setuptools==57.5.0 \n",
        "!pip install regressors"
      ],
      "metadata": {
        "colab": {
          "base_uri": "https://localhost:8080/"
        },
        "id": "OXCwwQAy6iSc",
        "outputId": "9442c10b-0fae-46e0-d772-6e743c70d401"
      },
      "execution_count": null,
      "outputs": [
        {
          "output_type": "stream",
          "name": "stdout",
          "text": [
            "Looking in indexes: https://pypi.org/simple, https://us-python.pkg.dev/colab-wheels/public/simple/\n",
            "Requirement already satisfied: pip in /usr/local/lib/python3.10/dist-packages (23.1.2)\n",
            "Requirement already satisfied: setuptools==57.5.0 in /usr/local/lib/python3.10/dist-packages (57.5.0)\n",
            "Looking in indexes: https://pypi.org/simple, https://us-python.pkg.dev/colab-wheels/public/simple/\n",
            "Requirement already satisfied: regressors in /usr/local/lib/python3.10/dist-packages (0.0.3)\n",
            "Requirement already satisfied: numpy>=1.6.1 in /usr/local/lib/python3.10/dist-packages (from regressors) (1.22.4)\n",
            "Requirement already satisfied: scipy>=0.9 in /usr/local/lib/python3.10/dist-packages (from regressors) (1.10.1)\n",
            "Requirement already satisfied: matplotlib in /usr/local/lib/python3.10/dist-packages (from regressors) (3.7.1)\n",
            "Requirement already satisfied: scikit-learn>=0.17 in /usr/local/lib/python3.10/dist-packages (from regressors) (1.2.2)\n",
            "Requirement already satisfied: statsmodels>=0.6.1 in /usr/local/lib/python3.10/dist-packages (from regressors) (0.13.5)\n",
            "Requirement already satisfied: seaborn in /usr/local/lib/python3.10/dist-packages (from regressors) (0.12.2)\n",
            "Requirement already satisfied: pandas in /usr/local/lib/python3.10/dist-packages (from regressors) (1.5.3)\n",
            "Requirement already satisfied: joblib>=1.1.1 in /usr/local/lib/python3.10/dist-packages (from scikit-learn>=0.17->regressors) (1.2.0)\n",
            "Requirement already satisfied: threadpoolctl>=2.0.0 in /usr/local/lib/python3.10/dist-packages (from scikit-learn>=0.17->regressors) (3.1.0)\n",
            "Requirement already satisfied: patsy>=0.5.2 in /usr/local/lib/python3.10/dist-packages (from statsmodels>=0.6.1->regressors) (0.5.3)\n",
            "Requirement already satisfied: packaging>=21.3 in /usr/local/lib/python3.10/dist-packages (from statsmodels>=0.6.1->regressors) (23.1)\n",
            "Requirement already satisfied: python-dateutil>=2.8.1 in /usr/local/lib/python3.10/dist-packages (from pandas->regressors) (2.8.2)\n",
            "Requirement already satisfied: pytz>=2020.1 in /usr/local/lib/python3.10/dist-packages (from pandas->regressors) (2022.7.1)\n",
            "Requirement already satisfied: contourpy>=1.0.1 in /usr/local/lib/python3.10/dist-packages (from matplotlib->regressors) (1.0.7)\n",
            "Requirement already satisfied: cycler>=0.10 in /usr/local/lib/python3.10/dist-packages (from matplotlib->regressors) (0.11.0)\n",
            "Requirement already satisfied: fonttools>=4.22.0 in /usr/local/lib/python3.10/dist-packages (from matplotlib->regressors) (4.39.3)\n",
            "Requirement already satisfied: kiwisolver>=1.0.1 in /usr/local/lib/python3.10/dist-packages (from matplotlib->regressors) (1.4.4)\n",
            "Requirement already satisfied: pillow>=6.2.0 in /usr/local/lib/python3.10/dist-packages (from matplotlib->regressors) (8.4.0)\n",
            "Requirement already satisfied: pyparsing>=2.3.1 in /usr/local/lib/python3.10/dist-packages (from matplotlib->regressors) (3.0.9)\n",
            "Requirement already satisfied: six in /usr/local/lib/python3.10/dist-packages (from patsy>=0.5.2->statsmodels>=0.6.1->regressors) (1.16.0)\n"
          ]
        }
      ]
    },
    {
      "cell_type": "code",
      "source": [
        "import pandas as pd\n",
        "import numpy as np\n",
        "\n",
        "import seaborn as sns\n",
        "import plotly.express as px\n",
        "import matplotlib.pyplot as plt\n",
        "from functools import reduce\n",
        "from datetime import datetime as dt\n",
        "import statsmodels.api as sm\n",
        "from regressors import stats\n",
        "\n",
        "from sklearn.linear_model import LinearRegression\n",
        "from sklearn.model_selection import train_test_split\n",
        "from sklearn.metrics import mean_squared_error, r2_score\n",
        "\n",
        "from google.colab import drive\n",
        "drive.mount('/content/drive')"
      ],
      "metadata": {
        "colab": {
          "base_uri": "https://localhost:8080/"
        },
        "id": "HHUggqRrCeTB",
        "outputId": "ed866bab-0e58-4dde-8532-7bfdcfecd26e"
      },
      "execution_count": null,
      "outputs": [
        {
          "output_type": "stream",
          "name": "stdout",
          "text": [
            "Drive already mounted at /content/drive; to attempt to forcibly remount, call drive.mount(\"/content/drive\", force_remount=True).\n"
          ]
        }
      ]
    },
    {
      "cell_type": "code",
      "source": [
        "pd.options.display.float_format = '{:,.2f}'.format\n",
        "plt.style.use('seaborn')\n",
        "plt.rcParams['figure.figsize'] = (12,8)\n",
        "pd.set_option('display.max_columns', 15)\n",
        "pd.set_option('display.max_rows', 50)"
      ],
      "metadata": {
        "id": "FCf8v_EdCgfc",
        "colab": {
          "base_uri": "https://localhost:8080/"
        },
        "outputId": "5b10f0dc-e303-4266-c421-86fe16415355"
      },
      "execution_count": null,
      "outputs": [
        {
          "output_type": "stream",
          "name": "stderr",
          "text": [
            "<ipython-input-24-0ae081f986c8>:2: MatplotlibDeprecationWarning: The seaborn styles shipped by Matplotlib are deprecated since 3.6, as they no longer correspond to the styles shipped by seaborn. However, they will remain available as 'seaborn-v0_8-<style>'. Alternatively, directly use the seaborn API instead.\n",
            "  plt.style.use('seaborn')\n"
          ]
        }
      ]
    },
    {
      "cell_type": "markdown",
      "source": [
        "# Let's get some damn data. "
      ],
      "metadata": {
        "id": "MvPhshZ3CqVd"
      }
    },
    {
      "cell_type": "markdown",
      "source": [
        "This is from a python API. All of the API work and data manipulation was done in PyCharm and can be found on Github"
      ],
      "metadata": {
        "id": "HaMvxxrcC1KC"
      }
    },
    {
      "cell_type": "code",
      "source": [
        "df = pd.read_csv(\"/content/drive/MyDrive/Colab Notebooks/NFL Model/Data/Model Data/final_data.csv\", index_col=0)\n",
        "schedule = pd.read_csv(\"/content/drive/MyDrive/Colab Notebooks/NFL Model/Data/API Data/schedule_2002_to_2022.csv\", index_col=0)\n",
        "df"
      ],
      "metadata": {
        "id": "McTvy_3uCs3g",
        "colab": {
          "base_uri": "https://localhost:8080/",
          "height": 505
        },
        "outputId": "9cadd9d8-b8f3-4fa8-d9d4-330ae9563284"
      },
      "execution_count": null,
      "outputs": [
        {
          "output_type": "execute_result",
          "data": {
            "text/plain": [
              "      score_diff  ewma_dynamic_window_rushing_offense_home  \\\n",
              "0              8                                       NaN   \n",
              "1              3                                       NaN   \n",
              "2              3                                       NaN   \n",
              "3              9                                       NaN   \n",
              "4             28                                       NaN   \n",
              "...          ...                                       ...   \n",
              "5626          12                                      0.10   \n",
              "5627           6                                      0.05   \n",
              "5628           5                                     -0.04   \n",
              "5629          13                                     -0.01   \n",
              "5630           4                                     -0.07   \n",
              "\n",
              "      ewma_dynamic_window_passing_offense_home  \\\n",
              "0                                          NaN   \n",
              "1                                          NaN   \n",
              "2                                          NaN   \n",
              "3                                          NaN   \n",
              "4                                          NaN   \n",
              "...                                        ...   \n",
              "5626                                      0.12   \n",
              "5627                                      0.04   \n",
              "5628                                      0.05   \n",
              "5629                                     -0.07   \n",
              "5630                                      0.06   \n",
              "\n",
              "      ewma_dynamic_window_rushing_defense_home  \\\n",
              "0                                          NaN   \n",
              "1                                          NaN   \n",
              "2                                          NaN   \n",
              "3                                          NaN   \n",
              "4                                          NaN   \n",
              "...                                        ...   \n",
              "5626                                     -0.10   \n",
              "5627                                     -0.01   \n",
              "5628                                     -0.05   \n",
              "5629                                     -0.04   \n",
              "5630                                     -0.10   \n",
              "\n",
              "      ewma_dynamic_window_passing_defense_home  \\\n",
              "0                                          NaN   \n",
              "1                                          NaN   \n",
              "2                                          NaN   \n",
              "3                                          NaN   \n",
              "4                                          NaN   \n",
              "...                                        ...   \n",
              "5626                                     -0.04   \n",
              "5627                                     -0.08   \n",
              "5628                                     -0.01   \n",
              "5629                                      0.15   \n",
              "5630                                      0.01   \n",
              "\n",
              "      ewma_dynamic_window_rushing_offense_away  \\\n",
              "0                                          NaN   \n",
              "1                                          NaN   \n",
              "2                                          NaN   \n",
              "3                                          NaN   \n",
              "4                                          NaN   \n",
              "...                                        ...   \n",
              "5626                                     -0.11   \n",
              "5627                                      0.04   \n",
              "5628                                     -0.09   \n",
              "5629                                     -0.18   \n",
              "5630                                     -0.05   \n",
              "\n",
              "      ewma_dynamic_window_passing_offense_away  ...  total_score  \\\n",
              "0                                          NaN  ...           54   \n",
              "1                                          NaN  ...           71   \n",
              "2                                          NaN  ...           17   \n",
              "3                                          NaN  ...           29   \n",
              "4                                          NaN  ...           70   \n",
              "...                                        ...  ...          ...   \n",
              "5626                                     -0.04  ...           58   \n",
              "5627                                     -0.04  ...           38   \n",
              "5628                                     -0.14  ...           17   \n",
              "5629                                      0.07  ...           47   \n",
              "5630                                     -0.12  ...           36   \n",
              "\n",
              "      rest differential  windy  div_game  spread_line  total_line  home_game  \n",
              "0                     0      0         0         6.00       44.50          1  \n",
              "1                     0      0         0         7.00       42.50          1  \n",
              "2                     0      0         0         0.00       33.00          1  \n",
              "3                     0      0         0        -8.50       33.50          1  \n",
              "4                     0      0         0         9.50       35.50          1  \n",
              "...                 ...    ...       ...          ...         ...        ...  \n",
              "5626                 -1      0         1         8.00       44.00          1  \n",
              "5627                  0      0         1        16.50       42.50          1  \n",
              "5628                  0      0         1         3.50       37.50          1  \n",
              "5629                  0      0         1         6.00       40.50          1  \n",
              "5630                 -3      0         1         6.00       39.50          1  \n",
              "\n",
              "[5407 rows x 16 columns]"
            ],
            "text/html": [
              "\n",
              "  <div id=\"df-e8086507-03c7-4efe-a62c-9a81806ddada\">\n",
              "    <div class=\"colab-df-container\">\n",
              "      <div>\n",
              "<style scoped>\n",
              "    .dataframe tbody tr th:only-of-type {\n",
              "        vertical-align: middle;\n",
              "    }\n",
              "\n",
              "    .dataframe tbody tr th {\n",
              "        vertical-align: top;\n",
              "    }\n",
              "\n",
              "    .dataframe thead th {\n",
              "        text-align: right;\n",
              "    }\n",
              "</style>\n",
              "<table border=\"1\" class=\"dataframe\">\n",
              "  <thead>\n",
              "    <tr style=\"text-align: right;\">\n",
              "      <th></th>\n",
              "      <th>score_diff</th>\n",
              "      <th>ewma_dynamic_window_rushing_offense_home</th>\n",
              "      <th>ewma_dynamic_window_passing_offense_home</th>\n",
              "      <th>ewma_dynamic_window_rushing_defense_home</th>\n",
              "      <th>ewma_dynamic_window_passing_defense_home</th>\n",
              "      <th>ewma_dynamic_window_rushing_offense_away</th>\n",
              "      <th>ewma_dynamic_window_passing_offense_away</th>\n",
              "      <th>...</th>\n",
              "      <th>total_score</th>\n",
              "      <th>rest differential</th>\n",
              "      <th>windy</th>\n",
              "      <th>div_game</th>\n",
              "      <th>spread_line</th>\n",
              "      <th>total_line</th>\n",
              "      <th>home_game</th>\n",
              "    </tr>\n",
              "  </thead>\n",
              "  <tbody>\n",
              "    <tr>\n",
              "      <th>0</th>\n",
              "      <td>8</td>\n",
              "      <td>NaN</td>\n",
              "      <td>NaN</td>\n",
              "      <td>NaN</td>\n",
              "      <td>NaN</td>\n",
              "      <td>NaN</td>\n",
              "      <td>NaN</td>\n",
              "      <td>...</td>\n",
              "      <td>54</td>\n",
              "      <td>0</td>\n",
              "      <td>0</td>\n",
              "      <td>0</td>\n",
              "      <td>6.00</td>\n",
              "      <td>44.50</td>\n",
              "      <td>1</td>\n",
              "    </tr>\n",
              "    <tr>\n",
              "      <th>1</th>\n",
              "      <td>3</td>\n",
              "      <td>NaN</td>\n",
              "      <td>NaN</td>\n",
              "      <td>NaN</td>\n",
              "      <td>NaN</td>\n",
              "      <td>NaN</td>\n",
              "      <td>NaN</td>\n",
              "      <td>...</td>\n",
              "      <td>71</td>\n",
              "      <td>0</td>\n",
              "      <td>0</td>\n",
              "      <td>0</td>\n",
              "      <td>7.00</td>\n",
              "      <td>42.50</td>\n",
              "      <td>1</td>\n",
              "    </tr>\n",
              "    <tr>\n",
              "      <th>2</th>\n",
              "      <td>3</td>\n",
              "      <td>NaN</td>\n",
              "      <td>NaN</td>\n",
              "      <td>NaN</td>\n",
              "      <td>NaN</td>\n",
              "      <td>NaN</td>\n",
              "      <td>NaN</td>\n",
              "      <td>...</td>\n",
              "      <td>17</td>\n",
              "      <td>0</td>\n",
              "      <td>0</td>\n",
              "      <td>0</td>\n",
              "      <td>0.00</td>\n",
              "      <td>33.00</td>\n",
              "      <td>1</td>\n",
              "    </tr>\n",
              "    <tr>\n",
              "      <th>3</th>\n",
              "      <td>9</td>\n",
              "      <td>NaN</td>\n",
              "      <td>NaN</td>\n",
              "      <td>NaN</td>\n",
              "      <td>NaN</td>\n",
              "      <td>NaN</td>\n",
              "      <td>NaN</td>\n",
              "      <td>...</td>\n",
              "      <td>29</td>\n",
              "      <td>0</td>\n",
              "      <td>0</td>\n",
              "      <td>0</td>\n",
              "      <td>-8.50</td>\n",
              "      <td>33.50</td>\n",
              "      <td>1</td>\n",
              "    </tr>\n",
              "    <tr>\n",
              "      <th>4</th>\n",
              "      <td>28</td>\n",
              "      <td>NaN</td>\n",
              "      <td>NaN</td>\n",
              "      <td>NaN</td>\n",
              "      <td>NaN</td>\n",
              "      <td>NaN</td>\n",
              "      <td>NaN</td>\n",
              "      <td>...</td>\n",
              "      <td>70</td>\n",
              "      <td>0</td>\n",
              "      <td>0</td>\n",
              "      <td>0</td>\n",
              "      <td>9.50</td>\n",
              "      <td>35.50</td>\n",
              "      <td>1</td>\n",
              "    </tr>\n",
              "    <tr>\n",
              "      <th>...</th>\n",
              "      <td>...</td>\n",
              "      <td>...</td>\n",
              "      <td>...</td>\n",
              "      <td>...</td>\n",
              "      <td>...</td>\n",
              "      <td>...</td>\n",
              "      <td>...</td>\n",
              "      <td>...</td>\n",
              "      <td>...</td>\n",
              "      <td>...</td>\n",
              "      <td>...</td>\n",
              "      <td>...</td>\n",
              "      <td>...</td>\n",
              "      <td>...</td>\n",
              "      <td>...</td>\n",
              "    </tr>\n",
              "    <tr>\n",
              "      <th>5626</th>\n",
              "      <td>12</td>\n",
              "      <td>0.10</td>\n",
              "      <td>0.12</td>\n",
              "      <td>-0.10</td>\n",
              "      <td>-0.04</td>\n",
              "      <td>-0.11</td>\n",
              "      <td>-0.04</td>\n",
              "      <td>...</td>\n",
              "      <td>58</td>\n",
              "      <td>-1</td>\n",
              "      <td>0</td>\n",
              "      <td>1</td>\n",
              "      <td>8.00</td>\n",
              "      <td>44.00</td>\n",
              "      <td>1</td>\n",
              "    </tr>\n",
              "    <tr>\n",
              "      <th>5627</th>\n",
              "      <td>6</td>\n",
              "      <td>0.05</td>\n",
              "      <td>0.04</td>\n",
              "      <td>-0.01</td>\n",
              "      <td>-0.08</td>\n",
              "      <td>0.04</td>\n",
              "      <td>-0.04</td>\n",
              "      <td>...</td>\n",
              "      <td>38</td>\n",
              "      <td>0</td>\n",
              "      <td>0</td>\n",
              "      <td>1</td>\n",
              "      <td>16.50</td>\n",
              "      <td>42.50</td>\n",
              "      <td>1</td>\n",
              "    </tr>\n",
              "    <tr>\n",
              "      <th>5628</th>\n",
              "      <td>5</td>\n",
              "      <td>-0.04</td>\n",
              "      <td>0.05</td>\n",
              "      <td>-0.05</td>\n",
              "      <td>-0.01</td>\n",
              "      <td>-0.09</td>\n",
              "      <td>-0.14</td>\n",
              "      <td>...</td>\n",
              "      <td>17</td>\n",
              "      <td>0</td>\n",
              "      <td>0</td>\n",
              "      <td>1</td>\n",
              "      <td>3.50</td>\n",
              "      <td>37.50</td>\n",
              "      <td>1</td>\n",
              "    </tr>\n",
              "    <tr>\n",
              "      <th>5629</th>\n",
              "      <td>13</td>\n",
              "      <td>-0.01</td>\n",
              "      <td>-0.07</td>\n",
              "      <td>-0.04</td>\n",
              "      <td>0.15</td>\n",
              "      <td>-0.18</td>\n",
              "      <td>0.07</td>\n",
              "      <td>...</td>\n",
              "      <td>47</td>\n",
              "      <td>0</td>\n",
              "      <td>0</td>\n",
              "      <td>1</td>\n",
              "      <td>6.00</td>\n",
              "      <td>40.50</td>\n",
              "      <td>1</td>\n",
              "    </tr>\n",
              "    <tr>\n",
              "      <th>5630</th>\n",
              "      <td>4</td>\n",
              "      <td>-0.07</td>\n",
              "      <td>0.06</td>\n",
              "      <td>-0.10</td>\n",
              "      <td>0.01</td>\n",
              "      <td>-0.05</td>\n",
              "      <td>-0.12</td>\n",
              "      <td>...</td>\n",
              "      <td>36</td>\n",
              "      <td>-3</td>\n",
              "      <td>0</td>\n",
              "      <td>1</td>\n",
              "      <td>6.00</td>\n",
              "      <td>39.50</td>\n",
              "      <td>1</td>\n",
              "    </tr>\n",
              "  </tbody>\n",
              "</table>\n",
              "<p>5407 rows × 16 columns</p>\n",
              "</div>\n",
              "      <button class=\"colab-df-convert\" onclick=\"convertToInteractive('df-e8086507-03c7-4efe-a62c-9a81806ddada')\"\n",
              "              title=\"Convert this dataframe to an interactive table.\"\n",
              "              style=\"display:none;\">\n",
              "        \n",
              "  <svg xmlns=\"http://www.w3.org/2000/svg\" height=\"24px\"viewBox=\"0 0 24 24\"\n",
              "       width=\"24px\">\n",
              "    <path d=\"M0 0h24v24H0V0z\" fill=\"none\"/>\n",
              "    <path d=\"M18.56 5.44l.94 2.06.94-2.06 2.06-.94-2.06-.94-.94-2.06-.94 2.06-2.06.94zm-11 1L8.5 8.5l.94-2.06 2.06-.94-2.06-.94L8.5 2.5l-.94 2.06-2.06.94zm10 10l.94 2.06.94-2.06 2.06-.94-2.06-.94-.94-2.06-.94 2.06-2.06.94z\"/><path d=\"M17.41 7.96l-1.37-1.37c-.4-.4-.92-.59-1.43-.59-.52 0-1.04.2-1.43.59L10.3 9.45l-7.72 7.72c-.78.78-.78 2.05 0 2.83L4 21.41c.39.39.9.59 1.41.59.51 0 1.02-.2 1.41-.59l7.78-7.78 2.81-2.81c.8-.78.8-2.07 0-2.86zM5.41 20L4 18.59l7.72-7.72 1.47 1.35L5.41 20z\"/>\n",
              "  </svg>\n",
              "      </button>\n",
              "      \n",
              "  <style>\n",
              "    .colab-df-container {\n",
              "      display:flex;\n",
              "      flex-wrap:wrap;\n",
              "      gap: 12px;\n",
              "    }\n",
              "\n",
              "    .colab-df-convert {\n",
              "      background-color: #E8F0FE;\n",
              "      border: none;\n",
              "      border-radius: 50%;\n",
              "      cursor: pointer;\n",
              "      display: none;\n",
              "      fill: #1967D2;\n",
              "      height: 32px;\n",
              "      padding: 0 0 0 0;\n",
              "      width: 32px;\n",
              "    }\n",
              "\n",
              "    .colab-df-convert:hover {\n",
              "      background-color: #E2EBFA;\n",
              "      box-shadow: 0px 1px 2px rgba(60, 64, 67, 0.3), 0px 1px 3px 1px rgba(60, 64, 67, 0.15);\n",
              "      fill: #174EA6;\n",
              "    }\n",
              "\n",
              "    [theme=dark] .colab-df-convert {\n",
              "      background-color: #3B4455;\n",
              "      fill: #D2E3FC;\n",
              "    }\n",
              "\n",
              "    [theme=dark] .colab-df-convert:hover {\n",
              "      background-color: #434B5C;\n",
              "      box-shadow: 0px 1px 3px 1px rgba(0, 0, 0, 0.15);\n",
              "      filter: drop-shadow(0px 1px 2px rgba(0, 0, 0, 0.3));\n",
              "      fill: #FFFFFF;\n",
              "    }\n",
              "  </style>\n",
              "\n",
              "      <script>\n",
              "        const buttonEl =\n",
              "          document.querySelector('#df-e8086507-03c7-4efe-a62c-9a81806ddada button.colab-df-convert');\n",
              "        buttonEl.style.display =\n",
              "          google.colab.kernel.accessAllowed ? 'block' : 'none';\n",
              "\n",
              "        async function convertToInteractive(key) {\n",
              "          const element = document.querySelector('#df-e8086507-03c7-4efe-a62c-9a81806ddada');\n",
              "          const dataTable =\n",
              "            await google.colab.kernel.invokeFunction('convertToInteractive',\n",
              "                                                     [key], {});\n",
              "          if (!dataTable) return;\n",
              "\n",
              "          const docLinkHtml = 'Like what you see? Visit the ' +\n",
              "            '<a target=\"_blank\" href=https://colab.research.google.com/notebooks/data_table.ipynb>data table notebook</a>'\n",
              "            + ' to learn more about interactive tables.';\n",
              "          element.innerHTML = '';\n",
              "          dataTable['output_type'] = 'display_data';\n",
              "          await google.colab.output.renderOutput(dataTable, element);\n",
              "          const docLink = document.createElement('div');\n",
              "          docLink.innerHTML = docLinkHtml;\n",
              "          element.appendChild(docLink);\n",
              "        }\n",
              "      </script>\n",
              "    </div>\n",
              "  </div>\n",
              "  "
            ]
          },
          "metadata": {},
          "execution_count": 25
        }
      ]
    },
    {
      "cell_type": "markdown",
      "source": [
        "Ok lets define the target and features and create a train test split"
      ],
      "metadata": {
        "id": "AEj09__VFRv1"
      }
    },
    {
      "cell_type": "code",
      "source": [
        "df.dropna(inplace=True)\n",
        "target = df.score_diff\n",
        "features = df.drop(['score_diff', 'spread_line', 'total_line', 'total_score', 'windy', 'div_game'], axis=1)\n",
        "\n",
        "# Creating train test split. Test will be 20% of the data\n",
        "X_train, X_test, y_train, y_test = train_test_split(features, target, test_size=0.2, random_state=10)\n",
        "print(X_train.shape, y_train.shape)"
      ],
      "metadata": {
        "id": "rbkb0BbwFUGz",
        "colab": {
          "base_uri": "https://localhost:8080/"
        },
        "outputId": "b6377e81-7ad3-4e01-d3aa-0879a4a17d44"
      },
      "execution_count": null,
      "outputs": [
        {
          "output_type": "stream",
          "name": "stdout",
          "text": [
            "(4312, 10) (4312,)\n"
          ]
        }
      ]
    },
    {
      "cell_type": "markdown",
      "source": [
        "Lets define a linear regression object and fit our X and Y"
      ],
      "metadata": {
        "id": "mYF1-6FZD0kV"
      }
    },
    {
      "cell_type": "code",
      "source": [
        "# Create Regression object and fit\n",
        "clf = LinearRegression()\n",
        "clf.fit(X_train, y_train)\n",
        "\n",
        "# Make a prediction based on the fit. Use X_test (20% of the data)\n",
        "y_pred = clf.predict(X_test)"
      ],
      "metadata": {
        "id": "BHGReIZ_FcD1"
      },
      "execution_count": null,
      "outputs": []
    },
    {
      "cell_type": "code",
      "source": [
        "# Get some info about the coefficients and how they're impacting the model\n",
        "mod = sm.OLS(y_train,X_train)\n",
        "fii = mod.fit()\n",
        "\n",
        "# Getting some info for graphing later\n",
        "r2 = fii.rsquared\n",
        "mse = mean_squared_error(y_pred, y_test)\n",
        "\n",
        "fii.summary()"
      ],
      "metadata": {
        "colab": {
          "base_uri": "https://localhost:8080/",
          "height": 629
        },
        "id": "cuzRk5pu63j7",
        "outputId": "f7ae71ef-dca3-4e56-90fe-618fdb44357e"
      },
      "execution_count": null,
      "outputs": [
        {
          "output_type": "execute_result",
          "data": {
            "text/plain": [
              "<class 'statsmodels.iolib.summary.Summary'>\n",
              "\"\"\"\n",
              "                                 OLS Regression Results                                \n",
              "=======================================================================================\n",
              "Dep. Variable:             score_diff   R-squared (uncentered):                   0.146\n",
              "Model:                            OLS   Adj. R-squared (uncentered):              0.144\n",
              "Method:                 Least Squares   F-statistic:                              73.68\n",
              "Date:                Fri, 19 May 2023   Prob (F-statistic):                   8.70e-140\n",
              "Time:                        21:58:50   Log-Likelihood:                         -17399.\n",
              "No. Observations:                4312   AIC:                                  3.482e+04\n",
              "Df Residuals:                    4302   BIC:                                  3.488e+04\n",
              "Df Model:                          10                                                  \n",
              "Covariance Type:            nonrobust                                                  \n",
              "============================================================================================================\n",
              "                                               coef    std err          t      P>|t|      [0.025      0.975]\n",
              "------------------------------------------------------------------------------------------------------------\n",
              "ewma_dynamic_window_rushing_offense_home    12.8257      2.656      4.829      0.000       7.618      18.033\n",
              "ewma_dynamic_window_passing_offense_home    21.3331      1.516     14.069      0.000      18.360      24.306\n",
              "ewma_dynamic_window_rushing_defense_home    -9.4886      2.892     -3.281      0.001     -15.158      -3.819\n",
              "ewma_dynamic_window_passing_defense_home   -12.2587      1.866     -6.568      0.000     -15.918      -8.599\n",
              "ewma_dynamic_window_rushing_offense_away   -15.0234      2.752     -5.459      0.000     -20.419      -9.628\n",
              "ewma_dynamic_window_passing_offense_away   -19.5365      1.519    -12.861      0.000     -22.515     -16.558\n",
              "ewma_dynamic_window_rushing_defense_away     7.0338      2.845      2.472      0.013       1.456      12.611\n",
              "ewma_dynamic_window_passing_defense_away     9.0871      1.843      4.932      0.000       5.475      12.700\n",
              "rest differential                            0.1705      0.084      2.020      0.043       0.005       0.336\n",
              "home_game                                    1.9945      0.470      4.247      0.000       1.074       2.915\n",
              "==============================================================================\n",
              "Omnibus:                       15.083   Durbin-Watson:                   1.940\n",
              "Prob(Omnibus):                  0.001   Jarque-Bera (JB):               17.599\n",
              "Skew:                           0.077   Prob(JB):                     0.000151\n",
              "Kurtosis:                       3.272   Cond. No.                         35.7\n",
              "==============================================================================\n",
              "\n",
              "Notes:\n",
              "[1] R² is computed without centering (uncentered) since the model does not contain a constant.\n",
              "[2] Standard Errors assume that the covariance matrix of the errors is correctly specified.\n",
              "\"\"\""
            ],
            "text/html": [
              "<table class=\"simpletable\">\n",
              "<caption>OLS Regression Results</caption>\n",
              "<tr>\n",
              "  <th>Dep. Variable:</th>       <td>score_diff</td>    <th>  R-squared (uncentered):</th>      <td>   0.146</td> \n",
              "</tr>\n",
              "<tr>\n",
              "  <th>Model:</th>                   <td>OLS</td>       <th>  Adj. R-squared (uncentered):</th> <td>   0.144</td> \n",
              "</tr>\n",
              "<tr>\n",
              "  <th>Method:</th>             <td>Least Squares</td>  <th>  F-statistic:       </th>          <td>   73.68</td> \n",
              "</tr>\n",
              "<tr>\n",
              "  <th>Date:</th>             <td>Fri, 19 May 2023</td> <th>  Prob (F-statistic):</th>          <td>8.70e-140</td>\n",
              "</tr>\n",
              "<tr>\n",
              "  <th>Time:</th>                 <td>21:58:50</td>     <th>  Log-Likelihood:    </th>          <td> -17399.</td> \n",
              "</tr>\n",
              "<tr>\n",
              "  <th>No. Observations:</th>      <td>  4312</td>      <th>  AIC:               </th>          <td>3.482e+04</td>\n",
              "</tr>\n",
              "<tr>\n",
              "  <th>Df Residuals:</th>          <td>  4302</td>      <th>  BIC:               </th>          <td>3.488e+04</td>\n",
              "</tr>\n",
              "<tr>\n",
              "  <th>Df Model:</th>              <td>    10</td>      <th>                     </th>              <td> </td>    \n",
              "</tr>\n",
              "<tr>\n",
              "  <th>Covariance Type:</th>      <td>nonrobust</td>    <th>                     </th>              <td> </td>    \n",
              "</tr>\n",
              "</table>\n",
              "<table class=\"simpletable\">\n",
              "<tr>\n",
              "                      <td></td>                        <th>coef</th>     <th>std err</th>      <th>t</th>      <th>P>|t|</th>  <th>[0.025</th>    <th>0.975]</th>  \n",
              "</tr>\n",
              "<tr>\n",
              "  <th>ewma_dynamic_window_rushing_offense_home</th> <td>   12.8257</td> <td>    2.656</td> <td>    4.829</td> <td> 0.000</td> <td>    7.618</td> <td>   18.033</td>\n",
              "</tr>\n",
              "<tr>\n",
              "  <th>ewma_dynamic_window_passing_offense_home</th> <td>   21.3331</td> <td>    1.516</td> <td>   14.069</td> <td> 0.000</td> <td>   18.360</td> <td>   24.306</td>\n",
              "</tr>\n",
              "<tr>\n",
              "  <th>ewma_dynamic_window_rushing_defense_home</th> <td>   -9.4886</td> <td>    2.892</td> <td>   -3.281</td> <td> 0.001</td> <td>  -15.158</td> <td>   -3.819</td>\n",
              "</tr>\n",
              "<tr>\n",
              "  <th>ewma_dynamic_window_passing_defense_home</th> <td>  -12.2587</td> <td>    1.866</td> <td>   -6.568</td> <td> 0.000</td> <td>  -15.918</td> <td>   -8.599</td>\n",
              "</tr>\n",
              "<tr>\n",
              "  <th>ewma_dynamic_window_rushing_offense_away</th> <td>  -15.0234</td> <td>    2.752</td> <td>   -5.459</td> <td> 0.000</td> <td>  -20.419</td> <td>   -9.628</td>\n",
              "</tr>\n",
              "<tr>\n",
              "  <th>ewma_dynamic_window_passing_offense_away</th> <td>  -19.5365</td> <td>    1.519</td> <td>  -12.861</td> <td> 0.000</td> <td>  -22.515</td> <td>  -16.558</td>\n",
              "</tr>\n",
              "<tr>\n",
              "  <th>ewma_dynamic_window_rushing_defense_away</th> <td>    7.0338</td> <td>    2.845</td> <td>    2.472</td> <td> 0.013</td> <td>    1.456</td> <td>   12.611</td>\n",
              "</tr>\n",
              "<tr>\n",
              "  <th>ewma_dynamic_window_passing_defense_away</th> <td>    9.0871</td> <td>    1.843</td> <td>    4.932</td> <td> 0.000</td> <td>    5.475</td> <td>   12.700</td>\n",
              "</tr>\n",
              "<tr>\n",
              "  <th>rest differential</th>                        <td>    0.1705</td> <td>    0.084</td> <td>    2.020</td> <td> 0.043</td> <td>    0.005</td> <td>    0.336</td>\n",
              "</tr>\n",
              "<tr>\n",
              "  <th>home_game</th>                                <td>    1.9945</td> <td>    0.470</td> <td>    4.247</td> <td> 0.000</td> <td>    1.074</td> <td>    2.915</td>\n",
              "</tr>\n",
              "</table>\n",
              "<table class=\"simpletable\">\n",
              "<tr>\n",
              "  <th>Omnibus:</th>       <td>15.083</td> <th>  Durbin-Watson:     </th> <td>   1.940</td>\n",
              "</tr>\n",
              "<tr>\n",
              "  <th>Prob(Omnibus):</th> <td> 0.001</td> <th>  Jarque-Bera (JB):  </th> <td>  17.599</td>\n",
              "</tr>\n",
              "<tr>\n",
              "  <th>Skew:</th>          <td> 0.077</td> <th>  Prob(JB):          </th> <td>0.000151</td>\n",
              "</tr>\n",
              "<tr>\n",
              "  <th>Kurtosis:</th>      <td> 3.272</td> <th>  Cond. No.          </th> <td>    35.7</td>\n",
              "</tr>\n",
              "</table><br/><br/>Notes:<br/>[1] R² is computed without centering (uncentered) since the model does not contain a constant.<br/>[2] Standard Errors assume that the covariance matrix of the errors is correctly specified."
            ]
          },
          "metadata": {},
          "execution_count": 28
        }
      ]
    },
    {
      "cell_type": "markdown",
      "source": [
        "Not bad. Lets see what it looks like and we can tweak\n",
        "Current R^2: 0.142"
      ],
      "metadata": {
        "id": "jMBNBAFSFhN6"
      }
    },
    {
      "cell_type": "code",
      "source": [
        "plt.style.use('seaborn')\n",
        "\n",
        "# set x and y\n",
        "x = y_pred\n",
        "y = y_test\n",
        "\n",
        "# calculate equation for trendline\n",
        "z = np.polyfit(x, y, 1)\n",
        "p = np.poly1d(z)\n",
        "\n",
        "# Create the subplot function\n",
        "fig, ax = plt.subplots()\n",
        "\n",
        "# Plot the scatter\n",
        "ax.scatter(x,y)\n",
        "\n",
        "# Plot the trendline\n",
        "ax.plot(x, p(x), color=\"red\")\n",
        "\n",
        "# Titles and axes\n",
        "plt.title(\"NFL Linear Regression spread predictions\")\n",
        "plt.xlabel(\"Predicted Point Differential\")\n",
        "plt.ylabel(\"Actual Point Differential\")\n",
        "\n",
        "# Plotting some text\n",
        "plt.text(-18, 55, 'R-squared = %0.4f' % r2)\n",
        "plt.text(-18, 50, \"y = %.2fx + %.2f\"%(z[0],z[1]))\n",
        "plt.text(-18, 45, f\"MSE = {mse: .3f}\")\n"
      ],
      "metadata": {
        "id": "Ba4guHyNFu6y",
        "colab": {
          "base_uri": "https://localhost:8080/",
          "height": 596
        },
        "outputId": "90e1a995-fc64-4d1b-8cfd-f315f0842b4c"
      },
      "execution_count": null,
      "outputs": [
        {
          "output_type": "stream",
          "name": "stderr",
          "text": [
            "<ipython-input-29-d3dc932086e1>:1: MatplotlibDeprecationWarning: The seaborn styles shipped by Matplotlib are deprecated since 3.6, as they no longer correspond to the styles shipped by seaborn. However, they will remain available as 'seaborn-v0_8-<style>'. Alternatively, directly use the seaborn API instead.\n",
            "  plt.style.use('seaborn')\n"
          ]
        },
        {
          "output_type": "execute_result",
          "data": {
            "text/plain": [
              "Text(-18, 45, 'MSE =  192.809')"
            ]
          },
          "metadata": {},
          "execution_count": 29
        },
        {
          "output_type": "display_data",
          "data": {
            "text/plain": [
              "<Figure size 800x550 with 1 Axes>"
            ],
            "image/png": "[encoded data removed]"
          },
          "metadata": {}
        }
      ]
    },
    {
      "cell_type": "markdown",
      "source": [
        "Okay lets do the same thing, but instead of our predictions, lets use the vegas closing line. This will give us an idea of how close we are getting to the vegas models"
      ],
      "metadata": {
        "id": "-9Y9MpLtUD3S"
      }
    },
    {
      "cell_type": "code",
      "source": [
        "df.dropna(inplace=True)\n",
        "target = df.score_diff\n",
        "features = df.spread_line\n",
        "\n",
        "# Creating train test split. Test will be 20% of the data\n",
        "X_train, X_test, y_train, y_test = train_test_split(features, target, test_size=0.2, random_state=10)\n",
        "\n",
        "# Have to do a reshape because this is a 1d array now\n",
        "X_train = X_train.values.reshape(-1, 1)\n",
        "X_test = X_test.values.reshape(-1, 1)\n",
        "print(X_train.shape, y_train.shape)"
      ],
      "metadata": {
        "id": "L4SFsnWPUNV_",
        "colab": {
          "base_uri": "https://localhost:8080/"
        },
        "outputId": "3fbde26f-86a0-4bf2-d27a-28c89bd6ff10"
      },
      "execution_count": null,
      "outputs": [
        {
          "output_type": "stream",
          "name": "stdout",
          "text": [
            "(4312, 1) (4312,)\n"
          ]
        }
      ]
    },
    {
      "cell_type": "code",
      "source": [
        "# Create Regression object and fit\n",
        "clf = LinearRegression()\n",
        "clf.fit(X_train, y_train)\n",
        "\n",
        "# Make a prediction based on the fit. Use X_test (20% of the data)\n",
        "y_pred = clf.predict(X_test)\n"
      ],
      "metadata": {
        "id": "hPjMOkDvVfpK"
      },
      "execution_count": null,
      "outputs": []
    },
    {
      "cell_type": "code",
      "source": [
        "# Get some info about the coefficients and how they're impacting the model\n",
        "mod = sm.OLS(y_train,X_train)\n",
        "fii = mod.fit()\n",
        "\n",
        "# Getting some info for graphing later\n",
        "r2 = fii.rsquared\n",
        "mse = mean_squared_error(y_pred, y_test)\n",
        "\n",
        "fii.summary()"
      ],
      "metadata": {
        "id": "rR-xe8l6VjLs",
        "colab": {
          "base_uri": "https://localhost:8080/",
          "height": 440
        },
        "outputId": "4c9ef45f-ad5d-4ecd-88e6-058ba6ac3445"
      },
      "execution_count": null,
      "outputs": [
        {
          "output_type": "execute_result",
          "data": {
            "text/plain": [
              "<class 'statsmodels.iolib.summary.Summary'>\n",
              "\"\"\"\n",
              "                                 OLS Regression Results                                \n",
              "=======================================================================================\n",
              "Dep. Variable:             score_diff   R-squared (uncentered):                   0.197\n",
              "Model:                            OLS   Adj. R-squared (uncentered):              0.197\n",
              "Method:                 Least Squares   F-statistic:                              1061.\n",
              "Date:                Fri, 19 May 2023   Prob (F-statistic):                   3.15e-208\n",
              "Time:                        21:58:50   Log-Likelihood:                         -17265.\n",
              "No. Observations:                4312   AIC:                                  3.453e+04\n",
              "Df Residuals:                    4311   BIC:                                  3.454e+04\n",
              "Df Model:                           1                                                  \n",
              "Covariance Type:            nonrobust                                                  \n",
              "==============================================================================\n",
              "                 coef    std err          t      P>|t|      [0.025      0.975]\n",
              "------------------------------------------------------------------------------\n",
              "x1             1.0273      0.032     32.570      0.000       0.965       1.089\n",
              "==============================================================================\n",
              "Omnibus:                       16.878   Durbin-Watson:                   1.917\n",
              "Prob(Omnibus):                  0.000   Jarque-Bera (JB):               20.019\n",
              "Skew:                           0.081   Prob(JB):                     4.50e-05\n",
              "Kurtosis:                       3.292   Cond. No.                         1.00\n",
              "==============================================================================\n",
              "\n",
              "Notes:\n",
              "[1] R² is computed without centering (uncentered) since the model does not contain a constant.\n",
              "[2] Standard Errors assume that the covariance matrix of the errors is correctly specified.\n",
              "\"\"\""
            ],
            "text/html": [
              "<table class=\"simpletable\">\n",
              "<caption>OLS Regression Results</caption>\n",
              "<tr>\n",
              "  <th>Dep. Variable:</th>       <td>score_diff</td>    <th>  R-squared (uncentered):</th>      <td>   0.197</td> \n",
              "</tr>\n",
              "<tr>\n",
              "  <th>Model:</th>                   <td>OLS</td>       <th>  Adj. R-squared (uncentered):</th> <td>   0.197</td> \n",
              "</tr>\n",
              "<tr>\n",
              "  <th>Method:</th>             <td>Least Squares</td>  <th>  F-statistic:       </th>          <td>   1061.</td> \n",
              "</tr>\n",
              "<tr>\n",
              "  <th>Date:</th>             <td>Fri, 19 May 2023</td> <th>  Prob (F-statistic):</th>          <td>3.15e-208</td>\n",
              "</tr>\n",
              "<tr>\n",
              "  <th>Time:</th>                 <td>21:58:50</td>     <th>  Log-Likelihood:    </th>          <td> -17265.</td> \n",
              "</tr>\n",
              "<tr>\n",
              "  <th>No. Observations:</th>      <td>  4312</td>      <th>  AIC:               </th>          <td>3.453e+04</td>\n",
              "</tr>\n",
              "<tr>\n",
              "  <th>Df Residuals:</th>          <td>  4311</td>      <th>  BIC:               </th>          <td>3.454e+04</td>\n",
              "</tr>\n",
              "<tr>\n",
              "  <th>Df Model:</th>              <td>     1</td>      <th>                     </th>              <td> </td>    \n",
              "</tr>\n",
              "<tr>\n",
              "  <th>Covariance Type:</th>      <td>nonrobust</td>    <th>                     </th>              <td> </td>    \n",
              "</tr>\n",
              "</table>\n",
              "<table class=\"simpletable\">\n",
              "<tr>\n",
              "   <td></td>     <th>coef</th>     <th>std err</th>      <th>t</th>      <th>P>|t|</th>  <th>[0.025</th>    <th>0.975]</th>  \n",
              "</tr>\n",
              "<tr>\n",
              "  <th>x1</th> <td>    1.0273</td> <td>    0.032</td> <td>   32.570</td> <td> 0.000</td> <td>    0.965</td> <td>    1.089</td>\n",
              "</tr>\n",
              "</table>\n",
              "<table class=\"simpletable\">\n",
              "<tr>\n",
              "  <th>Omnibus:</th>       <td>16.878</td> <th>  Durbin-Watson:     </th> <td>   1.917</td>\n",
              "</tr>\n",
              "<tr>\n",
              "  <th>Prob(Omnibus):</th> <td> 0.000</td> <th>  Jarque-Bera (JB):  </th> <td>  20.019</td>\n",
              "</tr>\n",
              "<tr>\n",
              "  <th>Skew:</th>          <td> 0.081</td> <th>  Prob(JB):          </th> <td>4.50e-05</td>\n",
              "</tr>\n",
              "<tr>\n",
              "  <th>Kurtosis:</th>      <td> 3.292</td> <th>  Cond. No.          </th> <td>    1.00</td>\n",
              "</tr>\n",
              "</table><br/><br/>Notes:<br/>[1] R² is computed without centering (uncentered) since the model does not contain a constant.<br/>[2] Standard Errors assume that the covariance matrix of the errors is correctly specified."
            ]
          },
          "metadata": {},
          "execution_count": 32
        }
      ]
    },
    {
      "cell_type": "code",
      "source": [
        "plt.style.use('seaborn')\n",
        "\n",
        "# set x and y\n",
        "x = y_pred\n",
        "y = y_test\n",
        "\n",
        "# calculate equation for trendline\n",
        "z = np.polyfit(x, y, 1)\n",
        "p = np.poly1d(z)\n",
        "\n",
        "# Create the subplot function\n",
        "fig, ax = plt.subplots()\n",
        "\n",
        "# Plot the scatter\n",
        "ax.scatter(x,y)\n",
        "\n",
        "# Plot the trendline\n",
        "ax.plot(x, p(x), color=\"red\")\n",
        "\n",
        "# Titles and axes\n",
        "plt.title(\"NFL Linear Regression spread predictions- Vegas\")\n",
        "plt.xlabel(\"Predicted Point Differential\")\n",
        "plt.ylabel(\"Actual Point Differential\")\n",
        "\n",
        "# Plotting some text\n",
        "plt.text(-18, 55, 'R-squared = %0.4f' % r2)\n",
        "plt.text(-18, 50, \"y = %.2fx + %.2f\"%(z[0],z[1]))\n",
        "plt.text(-18, 45, f\"MSE = {mse: .3f}\")"
      ],
      "metadata": {
        "id": "5ZUl5XxRVm97",
        "colab": {
          "base_uri": "https://localhost:8080/",
          "height": 596
        },
        "outputId": "7aeb39db-2338-4990-9ad5-f0345b5d0c67"
      },
      "execution_count": null,
      "outputs": [
        {
          "output_type": "stream",
          "name": "stderr",
          "text": [
            "<ipython-input-33-dd83a150ef10>:1: MatplotlibDeprecationWarning: The seaborn styles shipped by Matplotlib are deprecated since 3.6, as they no longer correspond to the styles shipped by seaborn. However, they will remain available as 'seaborn-v0_8-<style>'. Alternatively, directly use the seaborn API instead.\n",
            "  plt.style.use('seaborn')\n"
          ]
        },
        {
          "output_type": "execute_result",
          "data": {
            "text/plain": [
              "Text(-18, 45, 'MSE =  178.339')"
            ]
          },
          "metadata": {},
          "execution_count": 33
        },
        {
          "output_type": "display_data",
          "data": {
            "text/plain": [
              "<Figure size 800x550 with 1 Axes>"
            ],
            "image/png": "[encoded data removed]"
          },
          "metadata": {}
        }
      ]
    },
    {
      "cell_type": "code",
      "source": [
        "pred_y_df = pd.DataFrame({\"Actual Value\": y_test, \"Predicted Value\": y_pred, \"model_difference\": y_test - y_pred})\n",
        "pred_y_df"
      ],
      "metadata": {
        "id": "IykGkZefF3dh",
        "colab": {
          "base_uri": "https://localhost:8080/",
          "height": 423
        },
        "outputId": "1946bced-a96f-4376-f9d8-71b63210f6bc"
      },
      "execution_count": null,
      "outputs": [
        {
          "output_type": "execute_result",
          "data": {
            "text/plain": [
              "      Actual Value  Predicted Value  model_difference\n",
              "934             -1             3.01             -4.01\n",
              "4892             6             4.04              1.96\n",
              "1475            34             5.59             28.41\n",
              "3230             2            -4.74              6.74\n",
              "3041           -14            -3.19            -10.81\n",
              "...            ...              ...               ...\n",
              "939             -3            10.23            -13.23\n",
              "3889            18             2.49             15.51\n",
              "827            -17            -3.19            -13.81\n",
              "2973            -4             7.14            -11.14\n",
              "4221            38            10.75             27.25\n",
              "\n",
              "[1079 rows x 3 columns]"
            ],
            "text/html": [
              "\n",
              "  <div id=\"df-c26f9fad-00ec-4f49-b2ad-b642fe8cc98f\">\n",
              "    <div class=\"colab-df-container\">\n",
              "      <div>\n",
              "<style scoped>\n",
              "    .dataframe tbody tr th:only-of-type {\n",
              "        vertical-align: middle;\n",
              "    }\n",
              "\n",
              "    .dataframe tbody tr th {\n",
              "        vertical-align: top;\n",
              "    }\n",
              "\n",
              "    .dataframe thead th {\n",
              "        text-align: right;\n",
              "    }\n",
              "</style>\n",
              "<table border=\"1\" class=\"dataframe\">\n",
              "  <thead>\n",
              "    <tr style=\"text-align: right;\">\n",
              "      <th></th>\n",
              "      <th>Actual Value</th>\n",
              "      <th>Predicted Value</th>\n",
              "      <th>model_difference</th>\n",
              "    </tr>\n",
              "  </thead>\n",
              "  <tbody>\n",
              "    <tr>\n",
              "      <th>934</th>\n",
              "      <td>-1</td>\n",
              "      <td>3.01</td>\n",
              "      <td>-4.01</td>\n",
              "    </tr>\n",
              "    <tr>\n",
              "      <th>4892</th>\n",
              "      <td>6</td>\n",
              "      <td>4.04</td>\n",
              "      <td>1.96</td>\n",
              "    </tr>\n",
              "    <tr>\n",
              "      <th>1475</th>\n",
              "      <td>34</td>\n",
              "      <td>5.59</td>\n",
              "      <td>28.41</td>\n",
              "    </tr>\n",
              "    <tr>\n",
              "      <th>3230</th>\n",
              "      <td>2</td>\n",
              "      <td>-4.74</td>\n",
              "      <td>6.74</td>\n",
              "    </tr>\n",
              "    <tr>\n",
              "      <th>3041</th>\n",
              "      <td>-14</td>\n",
              "      <td>-3.19</td>\n",
              "      <td>-10.81</td>\n",
              "    </tr>\n",
              "    <tr>\n",
              "      <th>...</th>\n",
              "      <td>...</td>\n",
              "      <td>...</td>\n",
              "      <td>...</td>\n",
              "    </tr>\n",
              "    <tr>\n",
              "      <th>939</th>\n",
              "      <td>-3</td>\n",
              "      <td>10.23</td>\n",
              "      <td>-13.23</td>\n",
              "    </tr>\n",
              "    <tr>\n",
              "      <th>3889</th>\n",
              "      <td>18</td>\n",
              "      <td>2.49</td>\n",
              "      <td>15.51</td>\n",
              "    </tr>\n",
              "    <tr>\n",
              "      <th>827</th>\n",
              "      <td>-17</td>\n",
              "      <td>-3.19</td>\n",
              "      <td>-13.81</td>\n",
              "    </tr>\n",
              "    <tr>\n",
              "      <th>2973</th>\n",
              "      <td>-4</td>\n",
              "      <td>7.14</td>\n",
              "      <td>-11.14</td>\n",
              "    </tr>\n",
              "    <tr>\n",
              "      <th>4221</th>\n",
              "      <td>38</td>\n",
              "      <td>10.75</td>\n",
              "      <td>27.25</td>\n",
              "    </tr>\n",
              "  </tbody>\n",
              "</table>\n",
              "<p>1079 rows × 3 columns</p>\n",
              "</div>\n",
              "      <button class=\"colab-df-convert\" onclick=\"convertToInteractive('df-c26f9fad-00ec-4f49-b2ad-b642fe8cc98f')\"\n",
              "              title=\"Convert this dataframe to an interactive table.\"\n",
              "              style=\"display:none;\">\n",
              "        \n",
              "  <svg xmlns=\"http://www.w3.org/2000/svg\" height=\"24px\"viewBox=\"0 0 24 24\"\n",
              "       width=\"24px\">\n",
              "    <path d=\"M0 0h24v24H0V0z\" fill=\"none\"/>\n",
              "    <path d=\"M18.56 5.44l.94 2.06.94-2.06 2.06-.94-2.06-.94-.94-2.06-.94 2.06-2.06.94zm-11 1L8.5 8.5l.94-2.06 2.06-.94-2.06-.94L8.5 2.5l-.94 2.06-2.06.94zm10 10l.94 2.06.94-2.06 2.06-.94-2.06-.94-.94-2.06-.94 2.06-2.06.94z\"/><path d=\"M17.41 7.96l-1.37-1.37c-.4-.4-.92-.59-1.43-.59-.52 0-1.04.2-1.43.59L10.3 9.45l-7.72 7.72c-.78.78-.78 2.05 0 2.83L4 21.41c.39.39.9.59 1.41.59.51 0 1.02-.2 1.41-.59l7.78-7.78 2.81-2.81c.8-.78.8-2.07 0-2.86zM5.41 20L4 18.59l7.72-7.72 1.47 1.35L5.41 20z\"/>\n",
              "  </svg>\n",
              "      </button>\n",
              "      \n",
              "  <style>\n",
              "    .colab-df-container {\n",
              "      display:flex;\n",
              "      flex-wrap:wrap;\n",
              "      gap: 12px;\n",
              "    }\n",
              "\n",
              "    .colab-df-convert {\n",
              "      background-color: #E8F0FE;\n",
              "      border: none;\n",
              "      border-radius: 50%;\n",
              "      cursor: pointer;\n",
              "      display: none;\n",
              "      fill: #1967D2;\n",
              "      height: 32px;\n",
              "      padding: 0 0 0 0;\n",
              "      width: 32px;\n",
              "    }\n",
              "\n",
              "    .colab-df-convert:hover {\n",
              "      background-color: #E2EBFA;\n",
              "      box-shadow: 0px 1px 2px rgba(60, 64, 67, 0.3), 0px 1px 3px 1px rgba(60, 64, 67, 0.15);\n",
              "      fill: #174EA6;\n",
              "    }\n",
              "\n",
              "    [theme=dark] .colab-df-convert {\n",
              "      background-color: #3B4455;\n",
              "      fill: #D2E3FC;\n",
              "    }\n",
              "\n",
              "    [theme=dark] .colab-df-convert:hover {\n",
              "      background-color: #434B5C;\n",
              "      box-shadow: 0px 1px 3px 1px rgba(0, 0, 0, 0.15);\n",
              "      filter: drop-shadow(0px 1px 2px rgba(0, 0, 0, 0.3));\n",
              "      fill: #FFFFFF;\n",
              "    }\n",
              "  </style>\n",
              "\n",
              "      <script>\n",
              "        const buttonEl =\n",
              "          document.querySelector('#df-c26f9fad-00ec-4f49-b2ad-b642fe8cc98f button.colab-df-convert');\n",
              "        buttonEl.style.display =\n",
              "          google.colab.kernel.accessAllowed ? 'block' : 'none';\n",
              "\n",
              "        async function convertToInteractive(key) {\n",
              "          const element = document.querySelector('#df-c26f9fad-00ec-4f49-b2ad-b642fe8cc98f');\n",
              "          const dataTable =\n",
              "            await google.colab.kernel.invokeFunction('convertToInteractive',\n",
              "                                                     [key], {});\n",
              "          if (!dataTable) return;\n",
              "\n",
              "          const docLinkHtml = 'Like what you see? Visit the ' +\n",
              "            '<a target=\"_blank\" href=https://colab.research.google.com/notebooks/data_table.ipynb>data table notebook</a>'\n",
              "            + ' to learn more about interactive tables.';\n",
              "          element.innerHTML = '';\n",
              "          dataTable['output_type'] = 'display_data';\n",
              "          await google.colab.output.renderOutput(dataTable, element);\n",
              "          const docLink = document.createElement('div');\n",
              "          docLink.innerHTML = docLinkHtml;\n",
              "          element.appendChild(docLink);\n",
              "        }\n",
              "      </script>\n",
              "    </div>\n",
              "  </div>\n",
              "  "
            ]
          },
          "metadata": {},
          "execution_count": 34
        }
      ]
    },
    {
      "cell_type": "markdown",
      "source": [
        "Ok Let's try Random Forest"
      ],
      "metadata": {
        "id": "UeAbna13MSto"
      }
    },
    {
      "cell_type": "code",
      "source": [
        "#Random forest\n",
        "from sklearn.model_selection import train_test_split\n",
        "from sklearn.ensemble import RandomForestRegressor\n",
        "from sklearn.metrics import r2_score, mean_squared_error, mean_absolute_error"
      ],
      "metadata": {
        "id": "MzKAPFpAMVZH"
      },
      "execution_count": null,
      "outputs": []
    },
    {
      "cell_type": "code",
      "source": [
        "df = df.dropna()\n",
        "target = df['score_diff']\n",
        "feature_cols = [column for column in df.columns if 'ewma' in column and 'dynamic' in column]\n",
        "features = df[feature_cols]"
      ],
      "metadata": {
        "id": "bRJnx5AHON_E"
      },
      "execution_count": null,
      "outputs": []
    },
    {
      "cell_type": "code",
      "source": [
        "#Data preprocessing\n",
        "X = features.values\n",
        "y = df['score_diff'].values.reshape(-1, 1)\n",
        "X_train, X_test, y_train, y_test = train_test_split(X, y, test_size=0.1)\n",
        "\n",
        "RF_model = RandomForestRegressor(n_estimators = 2000)\n",
        "\n",
        "RF_model.fit(X_train, y_train)\n",
        "\n",
        "y_pred = RF_model.predict(X_test)\n",
        "\n",
        "print(mean_absolute_error(y_test, y_pred))"
      ],
      "metadata": {
        "id": "BhFOcmgXNIwW",
        "colab": {
          "base_uri": "https://localhost:8080/"
        },
        "outputId": "4c29bb32-160e-4898-e76c-62aa09907d0f"
      },
      "execution_count": null,
      "outputs": [
        {
          "output_type": "stream",
          "name": "stderr",
          "text": [
            "<ipython-input-37-598a7d6783df>:8: DataConversionWarning: A column-vector y was passed when a 1d array was expected. Please change the shape of y to (n_samples,), for example using ravel().\n",
            "  RF_model.fit(X_train, y_train)\n"
          ]
        },
        {
          "output_type": "stream",
          "name": "stdout",
          "text": [
            "10.270259259259259\n"
          ]
        }
      ]
    },
    {
      "cell_type": "code",
      "source": [
        "importance = RF_model.feature_importances_\n",
        "\n",
        "feature_names = feature_cols\n",
        "\n",
        "d = {'Var_Name': feature_names, 'Imp': importance}\n",
        "dfRF = pd.DataFrame(data=d)\n",
        "dfRF = dfRF.sort_values(by = ['Imp'], ascending = False).reset_index(drop = True)\n",
        "dfRF.head(10)"
      ],
      "metadata": {
        "id": "Y7f7SbxxNJIU",
        "colab": {
          "base_uri": "https://localhost:8080/",
          "height": 300
        },
        "outputId": "11b4e76d-422f-48a9-a241-bcdf785ec84c"
      },
      "execution_count": null,
      "outputs": [
        {
          "output_type": "execute_result",
          "data": {
            "text/plain": [
              "                                   Var_Name  Imp\n",
              "0  ewma_dynamic_window_passing_offense_home 0.16\n",
              "1  ewma_dynamic_window_passing_offense_away 0.16\n",
              "2  ewma_dynamic_window_passing_defense_home 0.12\n",
              "3  ewma_dynamic_window_passing_defense_away 0.12\n",
              "4  ewma_dynamic_window_rushing_offense_away 0.11\n",
              "5  ewma_dynamic_window_rushing_offense_home 0.11\n",
              "6  ewma_dynamic_window_rushing_defense_home 0.11\n",
              "7  ewma_dynamic_window_rushing_defense_away 0.11"
            ],
            "text/html": [
              "\n",
              "  <div id=\"df-134e5167-17a1-46a6-8958-63ea125fc6c2\">\n",
              "    <div class=\"colab-df-container\">\n",
              "      <div>\n",
              "<style scoped>\n",
              "    .dataframe tbody tr th:only-of-type {\n",
              "        vertical-align: middle;\n",
              "    }\n",
              "\n",
              "    .dataframe tbody tr th {\n",
              "        vertical-align: top;\n",
              "    }\n",
              "\n",
              "    .dataframe thead th {\n",
              "        text-align: right;\n",
              "    }\n",
              "</style>\n",
              "<table border=\"1\" class=\"dataframe\">\n",
              "  <thead>\n",
              "    <tr style=\"text-align: right;\">\n",
              "      <th></th>\n",
              "      <th>Var_Name</th>\n",
              "      <th>Imp</th>\n",
              "    </tr>\n",
              "  </thead>\n",
              "  <tbody>\n",
              "    <tr>\n",
              "      <th>0</th>\n",
              "      <td>ewma_dynamic_window_passing_offense_home</td>\n",
              "      <td>0.16</td>\n",
              "    </tr>\n",
              "    <tr>\n",
              "      <th>1</th>\n",
              "      <td>ewma_dynamic_window_passing_offense_away</td>\n",
              "      <td>0.16</td>\n",
              "    </tr>\n",
              "    <tr>\n",
              "      <th>2</th>\n",
              "      <td>ewma_dynamic_window_passing_defense_home</td>\n",
              "      <td>0.12</td>\n",
              "    </tr>\n",
              "    <tr>\n",
              "      <th>3</th>\n",
              "      <td>ewma_dynamic_window_passing_defense_away</td>\n",
              "      <td>0.12</td>\n",
              "    </tr>\n",
              "    <tr>\n",
              "      <th>4</th>\n",
              "      <td>ewma_dynamic_window_rushing_offense_away</td>\n",
              "      <td>0.11</td>\n",
              "    </tr>\n",
              "    <tr>\n",
              "      <th>5</th>\n",
              "      <td>ewma_dynamic_window_rushing_offense_home</td>\n",
              "      <td>0.11</td>\n",
              "    </tr>\n",
              "    <tr>\n",
              "      <th>6</th>\n",
              "      <td>ewma_dynamic_window_rushing_defense_home</td>\n",
              "      <td>0.11</td>\n",
              "    </tr>\n",
              "    <tr>\n",
              "      <th>7</th>\n",
              "      <td>ewma_dynamic_window_rushing_defense_away</td>\n",
              "      <td>0.11</td>\n",
              "    </tr>\n",
              "  </tbody>\n",
              "</table>\n",
              "</div>\n",
              "      <button class=\"colab-df-convert\" onclick=\"convertToInteractive('df-134e5167-17a1-46a6-8958-63ea125fc6c2')\"\n",
              "              title=\"Convert this dataframe to an interactive table.\"\n",
              "              style=\"display:none;\">\n",
              "        \n",
              "  <svg xmlns=\"http://www.w3.org/2000/svg\" height=\"24px\"viewBox=\"0 0 24 24\"\n",
              "       width=\"24px\">\n",
              "    <path d=\"M0 0h24v24H0V0z\" fill=\"none\"/>\n",
              "    <path d=\"M18.56 5.44l.94 2.06.94-2.06 2.06-.94-2.06-.94-.94-2.06-.94 2.06-2.06.94zm-11 1L8.5 8.5l.94-2.06 2.06-.94-2.06-.94L8.5 2.5l-.94 2.06-2.06.94zm10 10l.94 2.06.94-2.06 2.06-.94-2.06-.94-.94-2.06-.94 2.06-2.06.94z\"/><path d=\"M17.41 7.96l-1.37-1.37c-.4-.4-.92-.59-1.43-.59-.52 0-1.04.2-1.43.59L10.3 9.45l-7.72 7.72c-.78.78-.78 2.05 0 2.83L4 21.41c.39.39.9.59 1.41.59.51 0 1.02-.2 1.41-.59l7.78-7.78 2.81-2.81c.8-.78.8-2.07 0-2.86zM5.41 20L4 18.59l7.72-7.72 1.47 1.35L5.41 20z\"/>\n",
              "  </svg>\n",
              "      </button>\n",
              "      \n",
              "  <style>\n",
              "    .colab-df-container {\n",
              "      display:flex;\n",
              "      flex-wrap:wrap;\n",
              "      gap: 12px;\n",
              "    }\n",
              "\n",
              "    .colab-df-convert {\n",
              "      background-color: #E8F0FE;\n",
              "      border: none;\n",
              "      border-radius: 50%;\n",
              "      cursor: pointer;\n",
              "      display: none;\n",
              "      fill: #1967D2;\n",
              "      height: 32px;\n",
              "      padding: 0 0 0 0;\n",
              "      width: 32px;\n",
              "    }\n",
              "\n",
              "    .colab-df-convert:hover {\n",
              "      background-color: #E2EBFA;\n",
              "      box-shadow: 0px 1px 2px rgba(60, 64, 67, 0.3), 0px 1px 3px 1px rgba(60, 64, 67, 0.15);\n",
              "      fill: #174EA6;\n",
              "    }\n",
              "\n",
              "    [theme=dark] .colab-df-convert {\n",
              "      background-color: #3B4455;\n",
              "      fill: #D2E3FC;\n",
              "    }\n",
              "\n",
              "    [theme=dark] .colab-df-convert:hover {\n",
              "      background-color: #434B5C;\n",
              "      box-shadow: 0px 1px 3px 1px rgba(0, 0, 0, 0.15);\n",
              "      filter: drop-shadow(0px 1px 2px rgba(0, 0, 0, 0.3));\n",
              "      fill: #FFFFFF;\n",
              "    }\n",
              "  </style>\n",
              "\n",
              "      <script>\n",
              "        const buttonEl =\n",
              "          document.querySelector('#df-134e5167-17a1-46a6-8958-63ea125fc6c2 button.colab-df-convert');\n",
              "        buttonEl.style.display =\n",
              "          google.colab.kernel.accessAllowed ? 'block' : 'none';\n",
              "\n",
              "        async function convertToInteractive(key) {\n",
              "          const element = document.querySelector('#df-134e5167-17a1-46a6-8958-63ea125fc6c2');\n",
              "          const dataTable =\n",
              "            await google.colab.kernel.invokeFunction('convertToInteractive',\n",
              "                                                     [key], {});\n",
              "          if (!dataTable) return;\n",
              "\n",
              "          const docLinkHtml = 'Like what you see? Visit the ' +\n",
              "            '<a target=\"_blank\" href=https://colab.research.google.com/notebooks/data_table.ipynb>data table notebook</a>'\n",
              "            + ' to learn more about interactive tables.';\n",
              "          element.innerHTML = '';\n",
              "          dataTable['output_type'] = 'display_data';\n",
              "          await google.colab.output.renderOutput(dataTable, element);\n",
              "          const docLink = document.createElement('div');\n",
              "          docLink.innerHTML = docLinkHtml;\n",
              "          element.appendChild(docLink);\n",
              "        }\n",
              "      </script>\n",
              "    </div>\n",
              "  </div>\n",
              "  "
            ]
          },
          "metadata": {},
          "execution_count": 38
        }
      ]
    },
    {
      "cell_type": "code",
      "source": [
        "print(y_train.shape)\n",
        "print(y_test.shape)\n",
        "\n",
        "print()"
      ],
      "metadata": {
        "id": "o-bsBvFzPlDz",
        "colab": {
          "base_uri": "https://localhost:8080/"
        },
        "outputId": "c3c0a2bc-d793-4377-e128-db00b3cd5974"
      },
      "execution_count": null,
      "outputs": [
        {
          "output_type": "stream",
          "name": "stdout",
          "text": [
            "(4851, 1)\n",
            "(540, 1)\n",
            "\n"
          ]
        }
      ]
    },
    {
      "cell_type": "code",
      "source": [
        "#LOGISTIC\n",
        "import statsmodels.api as sm\n",
        "logit_model=sm.Logit(y_train,X_train)\n",
        "result=logit_model.fit()\n",
        "print(result.summary())"
      ],
      "metadata": {
        "id": "IBL34gl5kM8y",
        "colab": {
          "base_uri": "https://localhost:8080/",
          "height": 356
        },
        "outputId": "bed038b4-f3bf-4b51-8edb-912def4499a8"
      },
      "execution_count": null,
      "outputs": [
        {
          "output_type": "error",
          "ename": "ValueError",
          "evalue": "ignored",
          "traceback": [
            "\u001b[0;31m---------------------------------------------------------------------------\u001b[0m",
            "\u001b[0;31mValueError\u001b[0m                                Traceback (most recent call last)",
            "\u001b[0;32m<ipython-input-40-b78666da758d>\u001b[0m in \u001b[0;36m<cell line: 3>\u001b[0;34m()\u001b[0m\n\u001b[1;32m      1\u001b[0m \u001b[0;31m#LOGISTIC\u001b[0m\u001b[0;34m\u001b[0m\u001b[0;34m\u001b[0m\u001b[0m\n\u001b[1;32m      2\u001b[0m \u001b[0;32mimport\u001b[0m \u001b[0mstatsmodels\u001b[0m\u001b[0;34m.\u001b[0m\u001b[0mapi\u001b[0m \u001b[0;32mas\u001b[0m \u001b[0msm\u001b[0m\u001b[0;34m\u001b[0m\u001b[0;34m\u001b[0m\u001b[0m\n\u001b[0;32m----> 3\u001b[0;31m \u001b[0mlogit_model\u001b[0m\u001b[0;34m=\u001b[0m\u001b[0msm\u001b[0m\u001b[0;34m.\u001b[0m\u001b[0mLogit\u001b[0m\u001b[0;34m(\u001b[0m\u001b[0my_train\u001b[0m\u001b[0;34m,\u001b[0m\u001b[0mX_train\u001b[0m\u001b[0;34m)\u001b[0m\u001b[0;34m\u001b[0m\u001b[0;34m\u001b[0m\u001b[0m\n\u001b[0m\u001b[1;32m      4\u001b[0m \u001b[0mresult\u001b[0m\u001b[0;34m=\u001b[0m\u001b[0mlogit_model\u001b[0m\u001b[0;34m.\u001b[0m\u001b[0mfit\u001b[0m\u001b[0;34m(\u001b[0m\u001b[0;34m)\u001b[0m\u001b[0;34m\u001b[0m\u001b[0;34m\u001b[0m\u001b[0m\n\u001b[1;32m      5\u001b[0m \u001b[0mprint\u001b[0m\u001b[0;34m(\u001b[0m\u001b[0mresult\u001b[0m\u001b[0;34m.\u001b[0m\u001b[0msummary\u001b[0m\u001b[0;34m(\u001b[0m\u001b[0;34m)\u001b[0m\u001b[0;34m)\u001b[0m\u001b[0;34m\u001b[0m\u001b[0;34m\u001b[0m\u001b[0m\n",
            "\u001b[0;32m/usr/local/lib/python3.10/dist-packages/statsmodels/discrete/discrete_model.py\u001b[0m in \u001b[0;36m__init__\u001b[0;34m(self, endog, exog, check_rank, **kwargs)\u001b[0m\n\u001b[1;32m    463\u001b[0m         \u001b[0;32mif\u001b[0m \u001b[0;32mnot\u001b[0m \u001b[0missubclass\u001b[0m\u001b[0;34m(\u001b[0m\u001b[0mself\u001b[0m\u001b[0;34m.\u001b[0m\u001b[0m__class__\u001b[0m\u001b[0;34m,\u001b[0m \u001b[0mMultinomialModel\u001b[0m\u001b[0;34m)\u001b[0m\u001b[0;34m:\u001b[0m\u001b[0;34m\u001b[0m\u001b[0;34m\u001b[0m\u001b[0m\n\u001b[1;32m    464\u001b[0m             \u001b[0;32mif\u001b[0m \u001b[0;32mnot\u001b[0m \u001b[0mnp\u001b[0m\u001b[0;34m.\u001b[0m\u001b[0mall\u001b[0m\u001b[0;34m(\u001b[0m\u001b[0;34m(\u001b[0m\u001b[0mself\u001b[0m\u001b[0;34m.\u001b[0m\u001b[0mendog\u001b[0m \u001b[0;34m>=\u001b[0m \u001b[0;36m0\u001b[0m\u001b[0;34m)\u001b[0m \u001b[0;34m&\u001b[0m \u001b[0;34m(\u001b[0m\u001b[0mself\u001b[0m\u001b[0;34m.\u001b[0m\u001b[0mendog\u001b[0m \u001b[0;34m<=\u001b[0m \u001b[0;36m1\u001b[0m\u001b[0;34m)\u001b[0m\u001b[0;34m)\u001b[0m\u001b[0;34m:\u001b[0m\u001b[0;34m\u001b[0m\u001b[0;34m\u001b[0m\u001b[0m\n\u001b[0;32m--> 465\u001b[0;31m                 \u001b[0;32mraise\u001b[0m \u001b[0mValueError\u001b[0m\u001b[0;34m(\u001b[0m\u001b[0;34m\"endog must be in the unit interval.\"\u001b[0m\u001b[0;34m)\u001b[0m\u001b[0;34m\u001b[0m\u001b[0;34m\u001b[0m\u001b[0m\n\u001b[0m\u001b[1;32m    466\u001b[0m \u001b[0;34m\u001b[0m\u001b[0m\n\u001b[1;32m    467\u001b[0m             if (not self._continuous_ok and\n",
            "\u001b[0;31mValueError\u001b[0m: endog must be in the unit interval."
          ]
        }
      ]
    },
    {
      "cell_type": "markdown",
      "source": [
        "## Fuck it Fast AI Time"
      ],
      "metadata": {
        "id": "JGmvjkk7kOO3"
      }
    },
    {
      "cell_type": "code",
      "source": [
        "from fastai.tabular.all import *"
      ],
      "metadata": {
        "id": "97QnqN11kQsp"
      },
      "execution_count": null,
      "outputs": []
    },
    {
      "cell_type": "code",
      "source": [
        "print(feature_cols)"
      ],
      "metadata": {
        "id": "rt1dM9zLni1S"
      },
      "execution_count": null,
      "outputs": []
    },
    {
      "cell_type": "code",
      "source": [
        "fai_df = pd.merge(target, features, right_index=True, left_index=True)\n",
        "fai_df.head()"
      ],
      "metadata": {
        "id": "Vu-AMQ_snu5E"
      },
      "execution_count": null,
      "outputs": []
    },
    {
      "cell_type": "code",
      "source": [
        "splits = RandomSplitter(valid_pct=0.2)(range_of(df))"
      ],
      "metadata": {
        "id": "H9eQOmX6kSHW"
      },
      "execution_count": null,
      "outputs": []
    },
    {
      "cell_type": "code",
      "source": [],
      "metadata": {
        "id": "_G7XimK4kT0D"
      },
      "execution_count": null,
      "outputs": []
    }
  ]
}